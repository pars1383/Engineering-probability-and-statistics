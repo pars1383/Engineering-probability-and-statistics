{
 "cells": [
  {
   "cell_type": "markdown",
   "metadata": {},
   "source": [
    "# Correlation\n",
    "### CA2 @ EPS Course\n",
    "\n",
    "#### Instructors: Dr. Tavassolipour, Dr. Vahabie\n",
    "\n",
    "---\n",
    "\n",
    "### Instructions:\n",
    "-  Replace the placeholders (between <font color=\"green\">`## TODO ##`</font> and <font color=\"green\">`## TODO ##`</font>) with the appropriate details.\n",
    "- Ensure you run each cell after you've entered your solution.\n",
    "\n",
    "---\n",
    "\n",
    "*Full Name:* Parsa Alizadeh malafe\n",
    "\n",
    "*SID:* 810101572\n",
    "\n",
    "The objective of this notebook is to understand the concept of correlation.\n"
   ]
  },
  {
   "cell_type": "code",
   "execution_count": 2,
   "metadata": {},
   "outputs": [],
   "source": [
    "import seaborn as sns\n",
    "import matplotlib.pyplot as plt\n",
    "import pandas as pd\n",
    "import numpy as np\n",
    "import warnings\n",
    "import datetime\n",
    "import random\n",
    "\n",
    "warnings.filterwarnings(\"ignore\")"
   ]
  },
  {
   "cell_type": "markdown",
   "metadata": {},
   "source": [
    "## Calculate Correlation\n",
    "complete `correlation` function that calculate the correlation matrix of a data fram.\n",
    "\n",
    "**Note:** you are not allowed to use `pandas.core.frame.DataFrame.corr()` method"
   ]
  },
  {
   "cell_type": "code",
   "execution_count": 3,
   "metadata": {},
   "outputs": [],
   "source": [
    "random.seed(572)\n",
    "def correlation(data: pd.DataFrame) -> pd.DataFrame:\n",
    "    \"\"\"\n",
    "    Calculates the correlation matrix from a given dataset.\n",
    "\n",
    "    Args:\n",
    "        data (pandas.core.frame.DataFrame): The dataset, where each row represents an observation and each column represents a feature.\n",
    "\n",
    "    Returns:\n",
    "        correlation_matrix (pandas.core.frame.DataFrame): The correlation matrix.\n",
    "    \"\"\"\n",
    "    ######################  TODO  ########################\n",
    "     # Standardize the data\n",
    "    data_std = (data - data.mean()) / data.std()\n",
    "    \n",
    "    # Calculate correlation matrix\n",
    "    corr_matrix = np.dot(data_std.T, data_std) / (len(data) - 1)\n",
    "    \n",
    "    # Convert to DataFrame with original column names\n",
    "    return pd.DataFrame(corr_matrix, columns=data.columns, index=data.columns)\n",
    "    ######################  TODO  ########################"
   ]
  },
  {
   "cell_type": "code",
   "execution_count": 4,
   "metadata": {},
   "outputs": [],
   "source": [
    "######################  TODO  ########################\n",
    "df = pd.read_csv('energy.csv')\n",
    "######################  TODO  ########################"
   ]
  },
  {
   "cell_type": "markdown",
   "metadata": {},
   "source": [
    "### Convert to Datetime and Extract Features"
   ]
  },
  {
   "cell_type": "code",
   "execution_count": 5,
   "metadata": {},
   "outputs": [],
   "source": [
    "######################  TODO  ########################\n",
    "df['Datetime'] = pd.to_datetime(df['Datetime'])\n",
    "df['Year'] = df['Datetime'].dt.year\n",
    "df['Month'] = df['Datetime'].dt.month\n",
    "df['Hour'] = df['Datetime'].dt.hour\n",
    "######################  TODO  ########################"
   ]
  },
  {
   "cell_type": "markdown",
   "metadata": {},
   "source": [
    "### Plot Energy Usage Over Years"
   ]
  },
  {
   "cell_type": "code",
   "execution_count": null,
   "metadata": {},
   "outputs": [],
   "source": [
    "######################  TODO  ########################\n",
    "plt.figure(figsize=(12, 6))\n",
    "sns.boxplot(x='Year', y='Energy', data=df)\n",
    "plt.title('Energy Usage Distribution by Year')\n",
    "plt.xlabel('Year')\n",
    "plt.ylabel('Energy Consumption')\n",
    "plt.show()\n",
    "######################  TODO  ########################"
   ]
  },
  {
   "cell_type": "markdown",
   "metadata": {},
   "source": [
    "### Analyze Energy Usage Over Years"
   ]
  },
  {
   "cell_type": "code",
   "execution_count": null,
   "metadata": {},
   "outputs": [],
   "source": [
    "######################  TODO  ########################\n",
    "variance_2004 = df[df['Year'] == 2004]['Energy'].var()\n",
    "variance_2005 = df[df['Year'] == 2005]['Energy'].var()\n",
    "print(f\"2004 Variance: {variance_2004}\")\n",
    "print(f\"2005 Variance: {variance_2005}\")\n",
    "######################  TODO  ########################"
   ]
  },
  {
   "cell_type": "markdown",
   "metadata": {},
   "source": [
    "### Plot Energy Usage Over Hours"
   ]
  },
  {
   "cell_type": "code",
   "execution_count": null,
   "metadata": {},
   "outputs": [],
   "source": [
    "######################  TODO  ########################\n",
    "plt.figure(figsize=(12, 6))\n",
    "sns.boxplot(x='Hour', y='Energy', data=df)\n",
    "plt.title('Energy Usage Distribution by Hour')\n",
    "plt.xlabel('Hour of Day')\n",
    "plt.ylabel('Energy Consumption')\n",
    "plt.show()\n",
    "######################  TODO  ########################"
   ]
  },
  {
   "cell_type": "markdown",
   "metadata": {},
   "source": [
    "### Plot Energy Usage Over Months"
   ]
  },
  {
   "cell_type": "code",
   "execution_count": null,
   "metadata": {},
   "outputs": [],
   "source": [
    "######################  TODO  ########################\n",
    "plt.figure(figsize=(12, 6))\n",
    "sns.boxplot(x='Month', y='Energy', data=df)\n",
    "plt.title('Energy Usage Distribution by Month')\n",
    "plt.xlabel('Month')\n",
    "plt.ylabel('Energy Consumption')\n",
    "plt.show()\n",
    "######################  TODO  ########################"
   ]
  },
  {
   "cell_type": "markdown",
   "metadata": {},
   "source": [
    "### Calculate Correlation Between Specific Hours and Energy Usage"
   ]
  },
  {
   "cell_type": "code",
   "execution_count": null,
   "metadata": {},
   "outputs": [],
   "source": [
    "######################  TODO  ########################\n",
    "hours_subset = df[(df['Hour'] >= 4) & (df['Hour'] <= 13)]\n",
    "hourly_corr = correlation(hours_subset[['Hour', 'Energy']])\n",
    "print(\"Hourly Correlation (4 AM to 1 PM):\\n\", hourly_corr)\n",
    "######################  TODO  ########################"
   ]
  },
  {
   "cell_type": "markdown",
   "metadata": {},
   "source": [
    "### Analyze Correlation Between Specific Hours and Energy Usage\n",
    "\n",
    "ضریب همبستگی ارتباط بین ساعت و مصرف انرژی در ساعات صبح و بعد از ظهر را نشان می دهد.\n",
    "اگر ضریب همبستگی نزدیک به یک باشد، ارتباط مستقیم بین ساعت و مصرف انرژی وجود دارد. اگر ضریب منفی باشد، ارتباط معکوس وجود دارد. اگر ضریب همبستگی صفر باشد، ارتباط خطی بین این دو وجود ندارد. "
   ]
  },
  {
   "cell_type": "markdown",
   "metadata": {},
   "source": [
    "## Causal Effect"
   ]
  },
  {
   "cell_type": "code",
   "execution_count": null,
   "metadata": {},
   "outputs": [],
   "source": [
    "######################  TODO  ########################\n",
    "months_1 = df[df['Month'].between(2, 4)]\n",
    "months_2 = df[df['Month'].between(10, 12)]\n",
    "\n",
    "monthly_corr_1 = correlation(months_1[['Month', 'Energy']])\n",
    "monthly_corr_2 = correlation(months_2[['Month', 'Energy']])\n",
    "\n",
    "print(\"Monthly Correlation (February to April):\\n\", monthly_corr_1)\n",
    "print(\"Monthly Correlation (October to December):\\n\", monthly_corr_2)\n",
    "######################  TODO  ########################"
   ]
  }
 ],
 "metadata": {
  "kernelspec": {
   "display_name": "Python 3",
   "language": "python",
   "name": "python3"
  },
  "language_info": {
   "codemirror_mode": {
    "name": "ipython",
    "version": 3
   },
   "file_extension": ".py",
   "mimetype": "text/x-python",
   "name": "python",
   "nbconvert_exporter": "python",
   "pygments_lexer": "ipython3",
   "version": "3.12.0"
  }
 },
 "nbformat": 4,
 "nbformat_minor": 2
}
